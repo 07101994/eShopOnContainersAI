{
 "cells": [
  {
   "cell_type": "markdown",
   "metadata": {},
   "source": [
    "# Custom Model Training"
   ]
  },
  {
   "cell_type": "markdown",
   "metadata": {},
   "source": [
    "Use the Azure Machine Learning data collector to log various metrics"
   ]
  },
  {
   "cell_type": "code",
   "execution_count": 2,
   "metadata": {},
   "outputs": [],
   "source": [
    "from azureml.logging import get_azureml_logger\n",
    "logger = get_azureml_logger()"
   ]
  },
  {
   "cell_type": "code",
   "execution_count": 3,
   "metadata": {},
   "outputs": [],
   "source": [
    "# Use Azure Machine Learning history magic to control history collection\n",
    "# History is off by default, options are \"on\", \"off\", or \"show\"\n",
    "# %azureml history on"
   ]
  },
  {
   "cell_type": "markdown",
   "metadata": {},
   "source": [
    "Update the value of the `keras_backend` variable to switch between tensorflow or CNTK keras backends. Valid values: `tensorflow`, `cntk`"
   ]
  },
  {
   "cell_type": "code",
   "execution_count": 4,
   "metadata": {},
   "outputs": [],
   "source": [
    "keras_backend = 'tensorflow' # valid values: cntk, tensorflow\n",
    "os.environ['KERAS_BACKEND'] = keras_backend"
   ]
  },
  {
   "cell_type": "code",
   "execution_count": 5,
   "metadata": {},
   "outputs": [
    {
     "name": "stderr",
     "output_type": "stream",
     "text": [
      "Using TensorFlow backend.\n"
     ]
    },
    {
     "name": "stdout",
     "output_type": "stream",
     "text": [
      "Project folder:  D:\\fran\\Work\\eShoConAI\\workbench\n",
      "Found 72 images belonging to 4 classes.\n",
      "Found 15 images belonging to 4 classes.\n",
      "Epoch 1/16\n",
      "31/31 [==============================] - 15s 489ms/step - loss: 3.1432 - acc: 0.7277 - val_loss: 2.1906 - val_acc: 0.8556\n",
      "Epoch 2/16\n",
      "31/31 [==============================] - 12s 384ms/step - loss: 2.8443 - acc: 0.8066 - val_loss: 8.5328 - val_acc: 0.4667\n",
      "Epoch 3/16\n",
      "31/31 [==============================] - 11s 358ms/step - loss: 2.8949 - acc: 0.7741 - val_loss: 2.1564 - val_acc: 0.8667\n",
      "Epoch 4/16\n",
      "31/31 [==============================] - 11s 363ms/step - loss: 1.2297 - acc: 0.8931 - val_loss: 3.1937 - val_acc: 0.7444\n",
      "Epoch 5/16\n",
      "31/31 [==============================] - 11s 368ms/step - loss: 0.9069 - acc: 0.9395 - val_loss: 2.1818 - val_acc: 0.8556\n",
      "Epoch 6/16\n",
      "31/31 [==============================] - 11s 367ms/step - loss: 1.3048 - acc: 0.9070 - val_loss: 4.0735 - val_acc: 0.6556\n",
      "Epoch 7/16\n",
      "31/31 [==============================] - 12s 389ms/step - loss: 1.1267 - acc: 0.9134 - val_loss: 2.1543 - val_acc: 0.8667\n",
      "Epoch 8/16\n",
      "31/31 [==============================] - 12s 400ms/step - loss: 1.0263 - acc: 0.9232 - val_loss: 2.1666 - val_acc: 0.8556\n",
      "Epoch 9/16\n",
      "31/31 [==============================] - 12s 394ms/step - loss: 0.8835 - acc: 0.9455 - val_loss: 2.2215 - val_acc: 0.8556\n",
      "Epoch 10/16\n",
      "31/31 [==============================] - 11s 362ms/step - loss: 0.9132 - acc: 0.9434 - val_loss: 2.1530 - val_acc: 0.8667\n",
      "Epoch 11/16\n",
      "31/31 [==============================] - 12s 391ms/step - loss: 0.9896 - acc: 0.9334 - val_loss: 2.2225 - val_acc: 0.8444\n",
      "Epoch 12/16\n",
      "31/31 [==============================] - 12s 373ms/step - loss: 1.0103 - acc: 0.9253 - val_loss: 2.1567 - val_acc: 0.8667\n",
      "Epoch 13/16\n",
      "31/31 [==============================] - 11s 369ms/step - loss: 0.9407 - acc: 0.9416 - val_loss: 4.3388 - val_acc: 0.6667\n",
      "Epoch 14/16\n",
      "31/31 [==============================] - 12s 385ms/step - loss: 1.1186 - acc: 0.9276 - val_loss: 2.1494 - val_acc: 0.8667\n",
      "Epoch 15/16\n",
      "31/31 [==============================] - 11s 369ms/step - loss: 1.0973 - acc: 0.9319 - val_loss: 2.1491 - val_acc: 0.8667\n",
      "Epoch 16/16\n",
      "31/31 [==============================] - 12s 379ms/step - loss: 1.0906 - acc: 0.9231 - val_loss: 2.1623 - val_acc: 0.8556\n",
      "INFO:tensorflow:Froze 380 variables.\n",
      "Converted 380 variables to const ops.\n",
      "saved the graph definition in tensorflow format at:  D:\\fran\\Work\\eShoConAI\\workbench\\outputs\\model_tf.pb\n"
     ]
    },
    {
     "data": {
      "text/plain": [
       "<azureml.logging.script_run_request.ScriptRunRequest at 0x181f818deb8>"
      ]
     },
     "execution_count": 5,
     "metadata": {},
     "output_type": "execute_result"
    }
   ],
   "source": [
    "import sys, os\n",
    "\n",
    "from keras_training import train\n",
    "\n",
    "project_folder = %pwd\n",
    "print(\"Project folder: \", project_folder)\n",
    "output_folder = os.path.join(project_folder,'outputs')\n",
    "if not os.path.exists(output_folder):\n",
    "    os.makedirs(output_folder)\n",
    "\n",
    "data_folder = os.path.join(project_folder, 'data')\n",
    "if not os.path.exists(data_folder):\n",
    "    print('Error. Path ', data_folder, ' do not exists.')\n",
    "\n",
    "train_folder = os.path.join(data_folder, 'train')\n",
    "if not os.path.exists(train_folder):\n",
    "    print('Error. Path ', train_folder, ' do not exists.')\n",
    "\n",
    "validation_folder = os.path.join(data_folder, 'validation')\n",
    "if not os.path.exists(validation_folder):\n",
    "    print('Error. Path ', validation_folder, ' do not exists.')\n",
    "\n",
    "(history_tl, model) = train(train_folder, validation_folder, output_folder, epochs=16)\n",
    "\n",
    "logger.log(\"Accuracy\", history_tl.history['acc'])\n",
    "logger.log(\"Loss\", history_tl.history['loss'])\n",
    "logger.log(\"Validation Accuracy\", history_tl.history['val_acc'])\n",
    "logger.log(\"Validation Losss\", history_tl.history['val_loss'])\n"
   ]
  }
 ],
 "metadata": {
  "kernelspec": {
   "display_name": "Python 3",
   "language": "python",
   "name": "python3"
  },
  "language_info": {
   "codemirror_mode": {
    "name": "ipython",
    "version": 3
   },
   "file_extension": ".py",
   "mimetype": "text/x-python",
   "name": "python",
   "nbconvert_exporter": "python",
   "pygments_lexer": "ipython3",
   "version": "3.5.2"
  }
 },
 "nbformat": 4,
 "nbformat_minor": 2
}
