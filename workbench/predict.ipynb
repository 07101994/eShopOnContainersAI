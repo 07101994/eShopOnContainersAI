{
 "cells": [
  {
   "cell_type": "code",
   "execution_count": 1,
   "metadata": {},
   "outputs": [],
   "source": [
    "import sys, os, os.path, glob\n",
    "import tensorflow as tf"
   ]
  },
  {
   "cell_type": "code",
   "execution_count": 2,
   "metadata": {},
   "outputs": [
    {
     "name": "stdout",
     "output_type": "stream",
     "text": [
      "Project folder:  D:\\fran\\Work\\eShoConAI\\workbench\n"
     ]
    }
   ],
   "source": [
    "project_folder = %pwd\n",
    "print(\"Project folder: \", project_folder)\n",
    "output_folder = os.path.join(project_folder,'outputs')\n",
    "data_folder = os.path.join(project_folder, 'data')\n",
    "train_folder = os.path.join(data_folder, 'train')\n",
    "validation_folder = os.path.join(data_folder, 'validation')\n",
    "nb_classes = len(glob.glob(train_folder + \"/*\"))"
   ]
  },
  {
   "cell_type": "code",
   "execution_count": 3,
   "metadata": {},
   "outputs": [],
   "source": [
    "def load_graph(frozen_graph_filename):\n",
    "    # We load the protobuf file from the disk and parse it to retrieve the \n",
    "    # unserialized graph_def\n",
    "    with tf.gfile.GFile(frozen_graph_filename, \"rb\") as f:\n",
    "        graph_def = tf.GraphDef()\n",
    "        graph_def.ParseFromString(f.read())\n",
    "\n",
    "    # Then, we import the graph_def into a new Graph and returns it \n",
    "    with tf.Graph().as_default() as graph:\n",
    "        # The name var will prefix every op/nodes in your graph\n",
    "        # Since we load everything in a new graph, this is not needed\n",
    "        tf.import_graph_def(graph_def, name=\"\")\n",
    "    return graph"
   ]
  },
  {
   "cell_type": "code",
   "execution_count": 4,
   "metadata": {},
   "outputs": [],
   "source": [
    "# We use our \"load_graph\" function\n",
    "graph = load_graph(os.path.join(output_folder,'model.pb'))\n",
    "#graph = load_graph(os.path.join(output_folder,'tensorflow_inception_graph.pb'))\n",
    "\n",
    "\n",
    "# We can verify that we can access the list of operations in the graph\n",
    "#for op in graph.get_operations():\n",
    "#    print(op.name)"
   ]
  },
  {
   "cell_type": "code",
   "execution_count": 5,
   "metadata": {},
   "outputs": [
    {
     "name": "stderr",
     "output_type": "stream",
     "text": [
      "Using TensorFlow backend.\n"
     ]
    }
   ],
   "source": [
    "import numpy\n",
    "from keras.applications.inception_v3 import preprocess_input\n",
    "labels = [\"bracelet\",\"earrings\",\"parasol\",\"thermometer\"]\n",
    "\n",
    "def load_image(img_path):\n",
    "    from keras.preprocessing import image\n",
    "    # IM_WIDTH, IM_HEIGHT = 299, 299 #fixed size for InceptionV3\n",
    "    IM_WIDTH, IM_HEIGHT = 224, 224 \n",
    "    img = image.load_img(img_path, target_size=(IM_WIDTH, IM_HEIGHT))\n",
    "    x = image.img_to_array(img)\n",
    "    x = numpy.expand_dims(x, axis=0)\n",
    "    x = preprocess_input(x)\n",
    "    return x\n",
    "\n",
    "def predict_inception(graph, image):\n",
    "    with tf.Session(graph=graph) as sess:\n",
    "        input_tensor = sess.graph.get_tensor_by_name('input_1:0')\n",
    "        output = sess.run('output:0',feed_dict ={input_tensor:image})\n",
    "        return output\n",
    "        #print (output)\n",
    "\n",
    "# custom inception\n",
    "def predict(graph, image):\n",
    "    with tf.Session(graph=graph) as sess:\n",
    "        input_tensor = sess.graph.get_tensor_by_name('input_1:0')\n",
    "        #output_operation = sess.graph.get_operation_by_name('dense_2/Softmax')\n",
    "        #output_tensor = output_operation.outputs[0]\n",
    "        #output_tensor = sess.graph.get_tensor_by_name('output:0')\n",
    "        #t_input = tf.placeholder(numpy.float32, name='our_input')\n",
    "        output = sess.run('dense_2/Softmax:0',feed_dict ={input_tensor:image})\n",
    "        return output\n",
    "        #print (output)"
   ]
  },
  {
   "cell_type": "code",
   "execution_count": null,
   "metadata": {},
   "outputs": [],
   "source": [
    "bracelet_path = os.path.join(validation_folder,'bracelet','3506.jpg')\n",
    "bracelet_image = load_image(bracelet_path)\n",
    "preds = predict(graph, bracelet_image)\n",
    "print (preds)\n",
    "print (labels[preds.argmax()])"
   ]
  },
  {
   "cell_type": "code",
   "execution_count": null,
   "metadata": {},
   "outputs": [],
   "source": [
    "parasol_path = os.path.join(validation_folder,'parasol','114a.jpg')\n",
    "parasol_image = load_image(parasol_path)\n",
    "preds = predict(graph, parasol_image)\n",
    "print (preds)\n",
    "print (labels[preds.argmax()])"
   ]
  },
  {
   "cell_type": "code",
   "execution_count": null,
   "metadata": {},
   "outputs": [],
   "source": [
    "with tf.Session(graph=graph) as sess:\n",
    "    #aa = sess.graph.get_operation_by_name(\"input\")\n",
    "    aa = sess.graph.get_tensor_by_name(\"input:0\")\n",
    "    output_tensor = sess.graph.get_tensor_by_name('output:0')\n",
    "    print (aa)\n",
    "    print (output_tensor)"
   ]
  },
  {
   "cell_type": "code",
   "execution_count": null,
   "metadata": {},
   "outputs": [],
   "source": [
    "bracelet_image.shape"
   ]
  },
  {
   "cell_type": "code",
   "execution_count": null,
   "metadata": {},
   "outputs": [],
   "source": [
    "preds.argmax()"
   ]
  },
  {
   "cell_type": "code",
   "execution_count": null,
   "metadata": {},
   "outputs": [],
   "source": [
    "from keras import backend as K\n",
    "K.image_data_format()"
   ]
  },
  {
   "cell_type": "code",
   "execution_count": null,
   "metadata": {},
   "outputs": [],
   "source": [
    "import cntk as C\n",
    "model = C.load_model(os.path.join(output_folder,'model_cntk.pb'))"
   ]
  },
  {
   "cell_type": "code",
   "execution_count": null,
   "metadata": {},
   "outputs": [],
   "source": [
    "model.arguments[0]"
   ]
  },
  {
   "cell_type": "code",
   "execution_count": null,
   "metadata": {},
   "outputs": [],
   "source": [
    "model.output"
   ]
  },
  {
   "cell_type": "code",
   "execution_count": null,
   "metadata": {},
   "outputs": [],
   "source": [
    "bracelet_path = os.path.join(validation_folder,'bracelet','3506.jpg')\n",
    "bracelet_image = load_image(bracelet_path)\n",
    "output = model.eval (bracelet_image)\n",
    "print (output)\n",
    "print (labels[output.argmax()])"
   ]
  },
  {
   "cell_type": "code",
   "execution_count": null,
   "metadata": {},
   "outputs": [],
   "source": [
    "parasol_path = os.path.join(validation_folder,'parasol','114a.jpg')\n",
    "parasol_image = load_image(parasol_path)\n",
    "output = model.eval (parasol_image)\n",
    "print (output)\n",
    "print (labels[output.argmax()])"
   ]
  },
  {
   "cell_type": "code",
   "execution_count": null,
   "metadata": {},
   "outputs": [],
   "source": [
    "def rgb_norm(val):\n",
    "    #return ((2*(val-1))/255) + 1\n",
    "    return 2/255*(val-255)+1"
   ]
  },
  {
   "cell_type": "code",
   "execution_count": null,
   "metadata": {},
   "outputs": [],
   "source": [
    "print(rgb_norm(0)) # -1\n",
    "print(rgb_norm(255)) # 1\n",
    "print(rgb_norm(187)) # 0.47\n",
    "print(rgb_norm(123)) #0.04"
   ]
  },
  {
   "cell_type": "code",
   "execution_count": null,
   "metadata": {},
   "outputs": [],
   "source": [
    "1-(-1)"
   ]
  },
  {
   "cell_type": "code",
   "execution_count": null,
   "metadata": {},
   "outputs": [],
   "source": []
  }
 ],
 "metadata": {
  "kernelspec": {
   "display_name": "Python 3",
   "language": "python",
   "name": "python3"
  },
  "language_info": {
   "codemirror_mode": {
    "name": "ipython",
    "version": 3
   },
   "file_extension": ".py",
   "mimetype": "text/x-python",
   "name": "python",
   "nbconvert_exporter": "python",
   "pygments_lexer": "ipython3",
   "version": "3.5.2"
  }
 },
 "nbformat": 4,
 "nbformat_minor": 2
}
